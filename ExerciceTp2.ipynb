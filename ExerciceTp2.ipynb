{
 "cells": [
  {
   "cell_type": "code",
   "execution_count": 4,
   "id": "43d2383e-3775-4eac-a721-3fcc05e5004b",
   "metadata": {},
   "outputs": [
    {
     "data": {
      "text/html": [
       "<div>\n",
       "<style scoped>\n",
       "    .dataframe tbody tr th:only-of-type {\n",
       "        vertical-align: middle;\n",
       "    }\n",
       "\n",
       "    .dataframe tbody tr th {\n",
       "        vertical-align: top;\n",
       "    }\n",
       "\n",
       "    .dataframe thead th {\n",
       "        text-align: right;\n",
       "    }\n",
       "</style>\n",
       "<table border=\"1\" class=\"dataframe\">\n",
       "  <thead>\n",
       "    <tr style=\"text-align: right;\">\n",
       "      <th></th>\n",
       "      <th>1000025</th>\n",
       "      <th>5</th>\n",
       "      <th>1</th>\n",
       "      <th>1.1</th>\n",
       "      <th>1.2</th>\n",
       "      <th>2</th>\n",
       "      <th>1.3</th>\n",
       "      <th>3</th>\n",
       "      <th>1.4</th>\n",
       "      <th>1.5</th>\n",
       "      <th>2.1</th>\n",
       "    </tr>\n",
       "  </thead>\n",
       "  <tbody>\n",
       "    <tr>\n",
       "      <th>0</th>\n",
       "      <td>1002945</td>\n",
       "      <td>5</td>\n",
       "      <td>4</td>\n",
       "      <td>4</td>\n",
       "      <td>5</td>\n",
       "      <td>7</td>\n",
       "      <td>10</td>\n",
       "      <td>3</td>\n",
       "      <td>2</td>\n",
       "      <td>1</td>\n",
       "      <td>2</td>\n",
       "    </tr>\n",
       "    <tr>\n",
       "      <th>1</th>\n",
       "      <td>1015425</td>\n",
       "      <td>3</td>\n",
       "      <td>1</td>\n",
       "      <td>1</td>\n",
       "      <td>1</td>\n",
       "      <td>2</td>\n",
       "      <td>2</td>\n",
       "      <td>3</td>\n",
       "      <td>1</td>\n",
       "      <td>1</td>\n",
       "      <td>2</td>\n",
       "    </tr>\n",
       "    <tr>\n",
       "      <th>2</th>\n",
       "      <td>1016277</td>\n",
       "      <td>6</td>\n",
       "      <td>8</td>\n",
       "      <td>8</td>\n",
       "      <td>1</td>\n",
       "      <td>3</td>\n",
       "      <td>4</td>\n",
       "      <td>3</td>\n",
       "      <td>7</td>\n",
       "      <td>1</td>\n",
       "      <td>2</td>\n",
       "    </tr>\n",
       "    <tr>\n",
       "      <th>3</th>\n",
       "      <td>1017023</td>\n",
       "      <td>4</td>\n",
       "      <td>1</td>\n",
       "      <td>1</td>\n",
       "      <td>3</td>\n",
       "      <td>2</td>\n",
       "      <td>1</td>\n",
       "      <td>3</td>\n",
       "      <td>1</td>\n",
       "      <td>1</td>\n",
       "      <td>2</td>\n",
       "    </tr>\n",
       "    <tr>\n",
       "      <th>4</th>\n",
       "      <td>1017122</td>\n",
       "      <td>8</td>\n",
       "      <td>10</td>\n",
       "      <td>10</td>\n",
       "      <td>8</td>\n",
       "      <td>7</td>\n",
       "      <td>10</td>\n",
       "      <td>9</td>\n",
       "      <td>7</td>\n",
       "      <td>1</td>\n",
       "      <td>4</td>\n",
       "    </tr>\n",
       "  </tbody>\n",
       "</table>\n",
       "</div>"
      ],
      "text/plain": [
       "   1000025  5   1  1.1  1.2  2 1.3  3  1.4  1.5  2.1\n",
       "0  1002945  5   4    4    5  7  10  3    2    1    2\n",
       "1  1015425  3   1    1    1  2   2  3    1    1    2\n",
       "2  1016277  6   8    8    1  3   4  3    7    1    2\n",
       "3  1017023  4   1    1    3  2   1  3    1    1    2\n",
       "4  1017122  8  10   10    8  7  10  9    7    1    4"
      ]
     },
     "execution_count": 4,
     "metadata": {},
     "output_type": "execute_result"
    }
   ],
   "source": [
    "import pandas as pd\n",
    "data=pd.read_csv('data-breastcancer.csv')\n",
    "data.head()"
   ]
  },
  {
   "cell_type": "code",
   "execution_count": 5,
   "id": "e1e82561-e122-4a1e-976f-deb8e587adb8",
   "metadata": {},
   "outputs": [],
   "source": [
    "data.columns = ['Sample code', 'Clump Thickness', 'Uniformity of Cell Size', \n",
    "                'Uniformity of Cell Shape', 'Marginal Adhesion', \n",
    "                'Single Epithelial Cell Size', 'Bare Nuclei', \n",
    "                'Bland Chromatin', 'Normal Nucleoli', 'Mitoses', 'Class']\n"
   ]
  },
  {
   "cell_type": "code",
   "execution_count": 6,
   "id": "72b7c2fc-6092-4b5b-b188-d03974ecd000",
   "metadata": {},
   "outputs": [
    {
     "name": "stdout",
     "output_type": "stream",
     "text": [
      "Index(['Sample code', 'Clump Thickness', 'Uniformity of Cell Size',\n",
      "       'Uniformity of Cell Shape', 'Marginal Adhesion',\n",
      "       'Single Epithelial Cell Size', 'Bare Nuclei', 'Bland Chromatin',\n",
      "       'Normal Nucleoli', 'Mitoses', 'Class'],\n",
      "      dtype='object')\n"
     ]
    }
   ],
   "source": [
    "print(data.columns)"
   ]
  },
  {
   "cell_type": "code",
   "execution_count": 8,
   "id": "8bb353ad-133b-4531-97fa-8fc6a5943b15",
   "metadata": {},
   "outputs": [
    {
     "name": "stdout",
     "output_type": "stream",
     "text": [
      "        Sample code  Clump Thickness  Uniformity of Cell Size  \\\n",
      "count  6.980000e+02       698.000000               698.000000   \n",
      "mean   1.071807e+06         4.416905                 3.137536   \n",
      "std    6.175323e+05         2.817673                 3.052575   \n",
      "min    6.163400e+04         1.000000                 1.000000   \n",
      "25%    8.702582e+05         2.000000                 1.000000   \n",
      "50%    1.171710e+06         4.000000                 1.000000   \n",
      "75%    1.238354e+06         6.000000                 5.000000   \n",
      "max    1.345435e+07        10.000000                10.000000   \n",
      "\n",
      "       Uniformity of Cell Shape  Marginal Adhesion  \\\n",
      "count                698.000000         698.000000   \n",
      "mean                   3.210602           2.809456   \n",
      "std                    2.972867           2.856606   \n",
      "min                    1.000000           1.000000   \n",
      "25%                    1.000000           1.000000   \n",
      "50%                    1.000000           1.000000   \n",
      "75%                    5.000000           4.000000   \n",
      "max                   10.000000          10.000000   \n",
      "\n",
      "       Single Epithelial Cell Size  Bland Chromatin  Normal Nucleoli  \\\n",
      "count                   698.000000       698.000000       698.000000   \n",
      "mean                      3.217765         3.438395         2.869628   \n",
      "std                       2.215408         2.440056         3.055004   \n",
      "min                       1.000000         1.000000         1.000000   \n",
      "25%                       2.000000         2.000000         1.000000   \n",
      "50%                       2.000000         3.000000         1.000000   \n",
      "75%                       4.000000         5.000000         4.000000   \n",
      "max                      10.000000        10.000000        10.000000   \n",
      "\n",
      "          Mitoses       Class  \n",
      "count  698.000000  698.000000  \n",
      "mean     1.590258    2.690544  \n",
      "std      1.716162    0.951596  \n",
      "min      1.000000    2.000000  \n",
      "25%      1.000000    2.000000  \n",
      "50%      1.000000    2.000000  \n",
      "75%      1.000000    4.000000  \n",
      "max     10.000000    4.000000  \n"
     ]
    }
   ],
   "source": [
    "print(data.describe())"
   ]
  },
  {
   "cell_type": "code",
   "execution_count": 18,
   "id": "cf9f5cfd-1fa1-46ab-be9f-540d857c2029",
   "metadata": {},
   "outputs": [
    {
     "data": {
      "text/plain": [
       "(698, 11)"
      ]
     },
     "execution_count": 18,
     "metadata": {},
     "output_type": "execute_result"
    }
   ],
   "source": [
    "data.shape#nbr of rows and columns"
   ]
  },
  {
   "cell_type": "code",
   "execution_count": 23,
   "id": "217860d6-ceab-4fb3-9c3d-57f02f3fd726",
   "metadata": {},
   "outputs": [
    {
     "data": {
      "text/plain": [
       "Sample code                     0\n",
       "Clump Thickness                 0\n",
       "Uniformity of Cell Size         0\n",
       "Uniformity of Cell Shape        0\n",
       "Marginal Adhesion               0\n",
       "Single Epithelial Cell Size     0\n",
       "Bare Nuclei                    16\n",
       "Bland Chromatin                 0\n",
       "Normal Nucleoli                 0\n",
       "Mitoses                         0\n",
       "Class                           0\n",
       "dtype: int64"
      ]
     },
     "execution_count": 23,
     "metadata": {},
     "output_type": "execute_result"
    }
   ],
   "source": [
    "data.isna().sum()"
   ]
  },
  {
   "cell_type": "code",
   "execution_count": 20,
   "id": "bd6b0e40-7f18-4898-baba-fa87b540a2c2",
   "metadata": {},
   "outputs": [
    {
     "name": "stdout",
     "output_type": "stream",
     "text": [
      "Number of instances = 698 \n",
      "Number of attributes = 11 \n",
      "Number of missing values :\n",
      "\t Sample code : 0\n",
      "\t Clump Thickness : 0\n",
      "\t Uniformity of Cell Size : 0\n",
      "\t Uniformity of Cell Shape : 0\n",
      "\t Marginal Adhesion : 0\n",
      "\t Single Epithelial Cell Size : 0\n",
      "\t Bare Nuclei : 16\n",
      "\t Bland Chromatin : 0\n",
      "\t Normal Nucleoli : 0\n",
      "\t Mitoses : 0\n",
      "\t Class : 0\n"
     ]
    }
   ],
   "source": [
    "import numpy as np\n",
    "data=data.replace('?',np.NaN)\n",
    "print('Number of instances = %d '% (data.shape[0]))\n",
    "print('Number of attributes = %d '% (data.shape[1]))\n",
    "\n",
    "print('Number of missing values :')\n",
    "for col in data.columns:\n",
    "    print('\\t %s : %d' % (col,data[col].isna().sum()))\n"
   ]
  },
  {
   "cell_type": "code",
   "execution_count": 29,
   "id": "5d9878e2-0386-410d-9b9c-c4d6f64dc4ec",
   "metadata": {},
   "outputs": [],
   "source": [
    "data['Bare Nuclei'] = pd.to_numeric(data['Bare Nuclei'], errors='coerce')\n",
    "\n",
    "data['Bare Nuclei'] = data['Bare Nuclei'].fillna(data['Bare Nuclei'].median())\n"
   ]
  },
  {
   "cell_type": "code",
   "execution_count": 30,
   "id": "84191129-b23d-4e9b-b055-126647c44955",
   "metadata": {},
   "outputs": [
    {
     "data": {
      "text/plain": [
       "0      10.0\n",
       "1       2.0\n",
       "2       4.0\n",
       "3       1.0\n",
       "4      10.0\n",
       "       ... \n",
       "693     2.0\n",
       "694     1.0\n",
       "695     3.0\n",
       "696     4.0\n",
       "697     5.0\n",
       "Name: Bare Nuclei, Length: 698, dtype: float64"
      ]
     },
     "execution_count": 30,
     "metadata": {},
     "output_type": "execute_result"
    }
   ],
   "source": [
    "data['Bare Nuclei']"
   ]
  },
  {
   "cell_type": "code",
   "execution_count": 32,
   "id": "a1d4fb66-cd49-403b-88db-d3c18405eeb1",
   "metadata": {},
   "outputs": [],
   "source": [
    "data['Bare Nuclei'] = data['Bare Nuclei'].fillna(data['Bare Nuclei'].mean())\n"
   ]
  },
  {
   "cell_type": "code",
   "execution_count": 33,
   "id": "d80bf37b-ed29-4be0-9887-b489d1f931af",
   "metadata": {},
   "outputs": [
    {
     "data": {
      "text/plain": [
       "0      10.0\n",
       "1       2.0\n",
       "2       4.0\n",
       "3       1.0\n",
       "4      10.0\n",
       "       ... \n",
       "693     2.0\n",
       "694     1.0\n",
       "695     3.0\n",
       "696     4.0\n",
       "697     5.0\n",
       "Name: Bare Nuclei, Length: 698, dtype: float64"
      ]
     },
     "execution_count": 33,
     "metadata": {},
     "output_type": "execute_result"
    }
   ],
   "source": [
    "data['Bare Nuclei'] "
   ]
  },
  {
   "cell_type": "code",
   "execution_count": 36,
   "id": "3674bea8-050f-4519-b8c3-f900d614014a",
   "metadata": {},
   "outputs": [],
   "source": [
    "data=data.drop(columns=['Sample code'])"
   ]
  },
  {
   "cell_type": "code",
   "execution_count": 38,
   "id": "c3d99e52-a7db-4d46-a3e8-e2264405bf41",
   "metadata": {},
   "outputs": [
    {
     "data": {
      "text/plain": [
       "(698, 10)"
      ]
     },
     "execution_count": 38,
     "metadata": {},
     "output_type": "execute_result"
    }
   ],
   "source": [
    "data.shape"
   ]
  },
  {
   "cell_type": "code",
   "execution_count": 46,
   "id": "4271719a-3b77-4a78-8798-d85dcdfc7939",
   "metadata": {},
   "outputs": [
    {
     "data": {
      "image/png": "[encoded data removed]",
      "text/plain": [
       "<Figure size 2000x300 with 1 Axes>"
      ]
     },
     "metadata": {},
     "output_type": "display_data"
    }
   ],
   "source": [
    "import matplotlib.pyplot as plt\n",
    "data2 = data.drop(['Class'], axis=1) \n",
    "\n",
    "data2['Bare Nuclei'] = pd.to_numeric(data2['Bare Nuclei'], errors='coerce')\n",
    "\n",
    "data2.boxplot(figsize=(20, 3))\n",
    "\n",
    "plt.show()"
   ]
  },
  {
   "cell_type": "code",
   "execution_count": 49,
   "id": "1b850138-a575-4483-838c-cb73bc9a3d89",
   "metadata": {},
   "outputs": [
    {
     "data": {
      "text/html": [
       "<div>\n",
       "<style scoped>\n",
       "    .dataframe tbody tr th:only-of-type {\n",
       "        vertical-align: middle;\n",
       "    }\n",
       "\n",
       "    .dataframe tbody tr th {\n",
       "        vertical-align: top;\n",
       "    }\n",
       "\n",
       "    .dataframe thead th {\n",
       "        text-align: right;\n",
       "    }\n",
       "</style>\n",
       "<table border=\"1\" class=\"dataframe\">\n",
       "  <thead>\n",
       "    <tr style=\"text-align: right;\">\n",
       "      <th></th>\n",
       "      <th>Clump Thickness</th>\n",
       "      <th>Uniformity of Cell Size</th>\n",
       "      <th>Uniformity of Cell Shape</th>\n",
       "      <th>Marginal Adhesion</th>\n",
       "      <th>Single Epithelial Cell Size</th>\n",
       "      <th>Bare Nuclei</th>\n",
       "      <th>Bland Chromatin</th>\n",
       "      <th>Normal Nucleoli</th>\n",
       "      <th>Mitoses</th>\n",
       "    </tr>\n",
       "  </thead>\n",
       "  <tbody>\n",
       "    <tr>\n",
       "      <th>20</th>\n",
       "      <td>1.981456</td>\n",
       "      <td>0.610129</td>\n",
       "      <td>0.601910</td>\n",
       "      <td>0.066703</td>\n",
       "      <td>1.255857</td>\n",
       "      <td>0.968738</td>\n",
       "      <td>1.459640</td>\n",
       "      <td>2.333998</td>\n",
       "      <td>-0.343941</td>\n",
       "    </tr>\n",
       "    <tr>\n",
       "      <th>21</th>\n",
       "      <td>-0.502864</td>\n",
       "      <td>-0.700240</td>\n",
       "      <td>-0.743593</td>\n",
       "      <td>-0.633428</td>\n",
       "      <td>-0.549680</td>\n",
       "      <td>-0.687211</td>\n",
       "      <td>-0.589493</td>\n",
       "      <td>-0.611989</td>\n",
       "      <td>-0.343941</td>\n",
       "    </tr>\n",
       "    <tr>\n",
       "      <th>22</th>\n",
       "      <td>1.271650</td>\n",
       "      <td>0.282537</td>\n",
       "      <td>0.601910</td>\n",
       "      <td>-0.633428</td>\n",
       "      <td>-0.549680</td>\n",
       "      <td>-0.687211</td>\n",
       "      <td>1.459640</td>\n",
       "      <td>0.042675</td>\n",
       "      <td>-0.343941</td>\n",
       "    </tr>\n",
       "    <tr>\n",
       "      <th>23</th>\n",
       "      <td>-1.212669</td>\n",
       "      <td>-0.700240</td>\n",
       "      <td>-0.743593</td>\n",
       "      <td>-0.633428</td>\n",
       "      <td>-0.549680</td>\n",
       "      <td>-0.687211</td>\n",
       "      <td>-0.179666</td>\n",
       "      <td>-0.611989</td>\n",
       "      <td>-0.343941</td>\n",
       "    </tr>\n",
       "    <tr>\n",
       "      <th>24</th>\n",
       "      <td>0.206942</td>\n",
       "      <td>-0.372648</td>\n",
       "      <td>-0.070841</td>\n",
       "      <td>0.416769</td>\n",
       "      <td>-0.549680</td>\n",
       "      <td>0.968738</td>\n",
       "      <td>-0.179666</td>\n",
       "      <td>1.024670</td>\n",
       "      <td>-0.343941</td>\n",
       "    </tr>\n",
       "  </tbody>\n",
       "</table>\n",
       "</div>"
      ],
      "text/plain": [
       "    Clump Thickness  Uniformity of Cell Size  Uniformity of Cell Shape  \\\n",
       "20         1.981456                 0.610129                  0.601910   \n",
       "21        -0.502864                -0.700240                 -0.743593   \n",
       "22         1.271650                 0.282537                  0.601910   \n",
       "23        -1.212669                -0.700240                 -0.743593   \n",
       "24         0.206942                -0.372648                 -0.070841   \n",
       "\n",
       "    Marginal Adhesion  Single Epithelial Cell Size  Bare Nuclei  \\\n",
       "20           0.066703                     1.255857     0.968738   \n",
       "21          -0.633428                    -0.549680    -0.687211   \n",
       "22          -0.633428                    -0.549680    -0.687211   \n",
       "23          -0.633428                    -0.549680    -0.687211   \n",
       "24           0.416769                    -0.549680     0.968738   \n",
       "\n",
       "    Bland Chromatin  Normal Nucleoli   Mitoses  \n",
       "20         1.459640         2.333998 -0.343941  \n",
       "21        -0.589493        -0.611989 -0.343941  \n",
       "22         1.459640         0.042675 -0.343941  \n",
       "23        -0.179666        -0.611989 -0.343941  \n",
       "24        -0.179666         1.024670 -0.343941  "
      ]
     },
     "execution_count": 49,
     "metadata": {},
     "output_type": "execute_result"
    }
   ],
   "source": [
    "Z = (data2 - data2.mean()) / data2.std()\n",
    "Z[20:25]"
   ]
  },
  {
   "cell_type": "code",
   "execution_count": 52,
   "id": "48d8da65-0ed8-4904-aab3-506b5e5f5a09",
   "metadata": {},
   "outputs": [
    {
     "name": "stdout",
     "output_type": "stream",
     "text": [
      "Number of rows before discarding outliers = 698\n",
      "Number of rows after discarding outliers = 647\n"
     ]
    }
   ],
   "source": [
    "print('Number of rows before discarding outliers = %d' % (Z.shape[0]))\n",
    "Z2 = Z.loc[((Z > -3).sum(axis=1) == Z.shape[1]) & ((Z <= 3).sum(axis=1) == Z.shape[1]), :]\n",
    "print('Number of rows after discarding outliers = %d' % (Z2.shape[0]))\n"
   ]
  },
  {
   "cell_type": "code",
   "execution_count": 53,
   "id": "43956b0e-f323-498f-916e-54e48d419603",
   "metadata": {},
   "outputs": [
    {
     "name": "stdout",
     "output_type": "stream",
     "text": [
      "Number of duplicate rows = 241\n"
     ]
    },
    {
     "data": {
      "text/html": [
       "<div>\n",
       "<style scoped>\n",
       "    .dataframe tbody tr th:only-of-type {\n",
       "        vertical-align: middle;\n",
       "    }\n",
       "\n",
       "    .dataframe tbody tr th {\n",
       "        vertical-align: top;\n",
       "    }\n",
       "\n",
       "    .dataframe thead th {\n",
       "        text-align: right;\n",
       "    }\n",
       "</style>\n",
       "<table border=\"1\" class=\"dataframe\">\n",
       "  <thead>\n",
       "    <tr style=\"text-align: right;\">\n",
       "      <th></th>\n",
       "      <th>Clump Thickness</th>\n",
       "      <th>Uniformity of Cell Size</th>\n",
       "      <th>Uniformity of Cell Shape</th>\n",
       "      <th>Marginal Adhesion</th>\n",
       "      <th>Single Epithelial Cell Size</th>\n",
       "      <th>Bare Nuclei</th>\n",
       "      <th>Bland Chromatin</th>\n",
       "      <th>Normal Nucleoli</th>\n",
       "      <th>Mitoses</th>\n",
       "      <th>Class</th>\n",
       "    </tr>\n",
       "  </thead>\n",
       "  <tbody>\n",
       "    <tr>\n",
       "      <th>11</th>\n",
       "      <td>5</td>\n",
       "      <td>3</td>\n",
       "      <td>3</td>\n",
       "      <td>3</td>\n",
       "      <td>2</td>\n",
       "      <td>3.0</td>\n",
       "      <td>4</td>\n",
       "      <td>4</td>\n",
       "      <td>1</td>\n",
       "      <td>4</td>\n",
       "    </tr>\n",
       "    <tr>\n",
       "      <th>28</th>\n",
       "      <td>1</td>\n",
       "      <td>1</td>\n",
       "      <td>3</td>\n",
       "      <td>1</td>\n",
       "      <td>2</td>\n",
       "      <td>1.0</td>\n",
       "      <td>1</td>\n",
       "      <td>1</td>\n",
       "      <td>1</td>\n",
       "      <td>2</td>\n",
       "    </tr>\n",
       "  </tbody>\n",
       "</table>\n",
       "</div>"
      ],
      "text/plain": [
       "    Clump Thickness  Uniformity of Cell Size  Uniformity of Cell Shape  \\\n",
       "11                5                        3                         3   \n",
       "28                1                        1                         3   \n",
       "\n",
       "    Marginal Adhesion  Single Epithelial Cell Size  Bare Nuclei  \\\n",
       "11                  3                            2          3.0   \n",
       "28                  1                            2          1.0   \n",
       "\n",
       "    Bland Chromatin  Normal Nucleoli  Mitoses  Class  \n",
       "11                4                4        1      4  \n",
       "28                1                1        1      2  "
      ]
     },
     "execution_count": 53,
     "metadata": {},
     "output_type": "execute_result"
    }
   ],
   "source": [
    "dups = data.duplicated()\n",
    "print('Number of duplicate rows = %d' % (dups.sum()))\n",
    "data.loc[[11,28]]\n"
   ]
  },
  {
   "cell_type": "code",
   "execution_count": 56,
   "id": "9937b061-bf4b-4cd6-9a2b-30fdeda4a0bb",
   "metadata": {},
   "outputs": [
    {
     "name": "stdout",
     "output_type": "stream",
     "text": [
      "Number of rows before discarding duplicates = 698\n",
      "Number of rows after discarding duplicates = 457\n"
     ]
    }
   ],
   "source": [
    "print('Number of rows before discarding duplicates = %d' % (data.shape[0]))  \n",
    "data2 = data.drop_duplicates()  \n",
    "print('Number of rows after discarding duplicates = %d' % (data2.shape[0]))  # Correction de la chaîne ici\n"
   ]
  },
  {
   "cell_type": "code",
   "execution_count": 57,
   "id": "6b525ea1-1442-4532-9ee2-223fe664df98",
   "metadata": {},
   "outputs": [],
   "source": [
    "import sklearn\n",
    "from sklearn.datasets import load_diabetes\n",
    "import pandas as pd\n",
    "import matplotlib.pyplot as plt\n",
    "import seaborn as sns\n"
   ]
  },
  {
   "cell_type": "code",
   "execution_count": 58,
   "id": "050969af-af6a-458b-ae0a-929c0dd59382",
   "metadata": {},
   "outputs": [
    {
     "name": "stdout",
     "output_type": "stream",
     "text": [
      "        age       sex       bmi        bp        s1        s2        s3  \\\n",
      "0  0.038076  0.050680  0.061696  0.021872 -0.044223 -0.034821 -0.043401   \n",
      "1 -0.001882 -0.044642 -0.051474 -0.026328 -0.008449 -0.019163  0.074412   \n",
      "2  0.085299  0.050680  0.044451 -0.005670 -0.045599 -0.034194 -0.032356   \n",
      "3 -0.089063 -0.044642 -0.011595 -0.036656  0.012191  0.024991 -0.036038   \n",
      "4  0.005383 -0.044642 -0.036385  0.021872  0.003935  0.015596  0.008142   \n",
      "\n",
      "         s4        s5        s6  \n",
      "0 -0.002592  0.019907 -0.017646  \n",
      "1 -0.039493 -0.068332 -0.092204  \n",
      "2 -0.002592  0.002861 -0.025930  \n",
      "3  0.034309  0.022688 -0.009362  \n",
      "4 -0.002592 -0.031988 -0.046641  \n"
     ]
    }
   ],
   "source": [
    "diabetes = load_diabetes()\n",
    "column_name = diabetes.feature_names\n",
    "df_diabetics = pd.DataFrame(diabetes.data)\n",
    "df_diabetics.columns = column_name\n",
    "print(df_diabetics.head())\n"
   ]
  },
  {
   "cell_type": "code",
   "execution_count": 59,
   "id": "617eb2bb-e291-43fa-952a-63b3fe7760df",
   "metadata": {},
   "outputs": [
    {
     "data": {
      "image/png": "[encoded data removed]",
      "text/plain": [
       "<Figure size 1000x600 with 1 Axes>"
      ]
     },
     "metadata": {},
     "output_type": "display_data"
    }
   ],
   "source": [
    "plt.figure(figsize=(10, 6))\n",
    "sns.boxplot(x=df_diabetics['bmi'])\n",
    "plt.title('Boxplot of BMI')\n",
    "plt.xlabel('BMI')\n",
    "plt.show()"
   ]
  },
  {
   "cell_type": "code",
   "execution_count": 60,
   "id": "bced0f60-bfad-4ebd-88a9-9f9d3094970a",
   "metadata": {},
   "outputs": [
    {
     "data": {
      "image/png": "[encoded data removed]",
      "text/plain": [
       "<Figure size 640x480 with 1 Axes>"
      ]
     },
     "metadata": {},
     "output_type": "display_data"
    }
   ],
   "source": [
    "import seaborn as sns\n",
    "import matplotlib.pyplot as plt\n",
    "\n",
    "def removal_box_plot(df, column, threshold):\n",
    "    removed_outliers = df[df[column] <= threshold]\n",
    "    \n",
    "    sns.boxplot(x=removed_outliers[column])\n",
    "    plt.title(f'Box Plot without Outliers of {column}')\n",
    "    plt.show()\n",
    "    \n",
    "    return removed_outliers\n",
    "    \n",
    "threshold_value = 0.12\n",
    "\n",
    "no_outliers = removal_box_plot(df_diabetics, 'bmi', threshold_value)\n"
   ]
  },
  {
   "cell_type": "code",
   "execution_count": 61,
   "id": "5044b312-ccc0-4521-be7e-0890a35d06b3",
   "metadata": {},
   "outputs": [
    {
     "data": {
      "image/png": "[encoded data removed]",
      "text/plain": [
       "<Figure size 600x400 with 1 Axes>"
      ]
     },
     "metadata": {},
     "output_type": "display_data"
    }
   ],
   "source": [
    "fig, ax = plt.subplots(figsize=(6, 4))\n",
    "\n",
    "ax.scatter(df_diabetics['bmi'], df_diabetics['bp'])\n",
    "\n",
    "ax.set_xlabel('Body Mass Index of People')\n",
    "ax.set_ylabel('BP of the People')\n",
    "plt.show()\n"
   ]
  },
  {
   "cell_type": "code",
   "execution_count": 62,
   "id": "5a2133e6-ed46-48b2-86ef-70b4c1098a30",
   "metadata": {},
   "outputs": [
    {
     "data": {
      "image/png": "[encoded data removed]",
      "text/plain": [
       "<Figure size 600x400 with 1 Axes>"
      ]
     },
     "metadata": {},
     "output_type": "display_data"
    }
   ],
   "source": [
    "import numpy as np\n",
    "import seaborn as sns\n",
    "import matplotlib.pyplot as plt\n",
    "\n",
    "outlier_indices = np.where((df_diabetics['bmi'] > 0.12) & (df_diabetics['bp'] < 0.8))\n",
    "\n",
    "no_outliers = df_diabetics.drop(outlier_indices[0])\n",
    "\n",
    "fig, ax_no_outliers = plt.subplots(figsize=(6, 4))\n",
    "ax_no_outliers.scatter(no_outliers['bmi'], no_outliers['bp'])\n",
    "ax_no_outliers.set_xlabel('Body Mass Index (BMI) of People')\n",
    "ax_no_outliers.set_ylabel('Blood Pressure (BP) of People')\n",
    "plt.show()\n"
   ]
  },
  {
   "cell_type": "code",
   "execution_count": null,
   "id": "b220d7f1-507a-444c-901c-690632f05fe9",
   "metadata": {},
   "outputs": [],
   "source": []
  }
 ],
 "metadata": {
  "kernelspec": {
   "display_name": "Python 3 (ipykernel)",
   "language": "python",
   "name": "python3"
  },
  "language_info": {
   "codemirror_mode": {
    "name": "ipython",
    "version": 3
   },
   "file_extension": ".py",
   "mimetype": "text/x-python",
   "name": "python",
   "nbconvert_exporter": "python",
   "pygments_lexer": "ipython3",
   "version": "3.12.7"
  }
 },
 "nbformat": 4,
 "nbformat_minor": 5
}
